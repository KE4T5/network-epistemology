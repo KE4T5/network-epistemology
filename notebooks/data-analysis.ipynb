{
 "cells": [
  {
   "cell_type": "markdown",
   "id": "noble-brazilian",
   "metadata": {},
   "source": [
    "# Telco data analysis"
   ]
  },
  {
   "cell_type": "code",
   "execution_count": 1,
   "id": "separate-surgeon",
   "metadata": {},
   "outputs": [],
   "source": [
    "import pandas as pd\n",
    "import numpy as np"
   ]
  },
  {
   "cell_type": "markdown",
   "id": "connected-warehouse",
   "metadata": {},
   "source": [
    "## Loading data"
   ]
  },
  {
   "cell_type": "code",
   "execution_count": 2,
   "id": "public-expansion",
   "metadata": {},
   "outputs": [],
   "source": [
    "data_path = 'TelcoData.csv'\n",
    "data = pd.read_csv(\n",
    "    data_path,\n",
    "    sep=';',\n",
    "    dtype={'StudentID': object, 'SenderID': object, 'ReceiverID': object, 'EventType': object}\n",
    ")"
   ]
  },
  {
   "cell_type": "code",
   "execution_count": 3,
   "id": "anonymous-yeast",
   "metadata": {},
   "outputs": [
    {
     "data": {
      "text/html": [
       "<div>\n",
       "<style scoped>\n",
       "    .dataframe tbody tr th:only-of-type {\n",
       "        vertical-align: middle;\n",
       "    }\n",
       "\n",
       "    .dataframe tbody tr th {\n",
       "        vertical-align: top;\n",
       "    }\n",
       "\n",
       "    .dataframe thead th {\n",
       "        text-align: right;\n",
       "    }\n",
       "</style>\n",
       "<table border=\"1\" class=\"dataframe\">\n",
       "  <thead>\n",
       "    <tr style=\"text-align: right;\">\n",
       "      <th></th>\n",
       "      <th>EventTime</th>\n",
       "      <th>StudentID</th>\n",
       "      <th>SenderID</th>\n",
       "      <th>ReceiverID</th>\n",
       "      <th>EventType</th>\n",
       "      <th>EventLength</th>\n",
       "    </tr>\n",
       "  </thead>\n",
       "  <tbody>\n",
       "    <tr>\n",
       "      <th>0</th>\n",
       "      <td>2011-08-06 04:00:35</td>\n",
       "      <td>62560</td>\n",
       "      <td>176422</td>\n",
       "      <td>62560</td>\n",
       "      <td>1</td>\n",
       "      <td>9</td>\n",
       "    </tr>\n",
       "    <tr>\n",
       "      <th>1</th>\n",
       "      <td>2011-08-06 04:28:00</td>\n",
       "      <td>62560</td>\n",
       "      <td>176422</td>\n",
       "      <td>62560</td>\n",
       "      <td>1</td>\n",
       "      <td>31</td>\n",
       "    </tr>\n",
       "    <tr>\n",
       "      <th>2</th>\n",
       "      <td>2011-08-07 19:35:55</td>\n",
       "      <td>62560</td>\n",
       "      <td>176422</td>\n",
       "      <td>62560</td>\n",
       "      <td>1</td>\n",
       "      <td>100</td>\n",
       "    </tr>\n",
       "    <tr>\n",
       "      <th>3</th>\n",
       "      <td>2011-08-07 20:33:52</td>\n",
       "      <td>62560</td>\n",
       "      <td>176422</td>\n",
       "      <td>62560</td>\n",
       "      <td>1</td>\n",
       "      <td>153</td>\n",
       "    </tr>\n",
       "    <tr>\n",
       "      <th>4</th>\n",
       "      <td>2011-08-07 20:34:02</td>\n",
       "      <td>62560</td>\n",
       "      <td>176422</td>\n",
       "      <td>62560</td>\n",
       "      <td>1</td>\n",
       "      <td>32</td>\n",
       "    </tr>\n",
       "  </tbody>\n",
       "</table>\n",
       "</div>"
      ],
      "text/plain": [
       "             EventTime StudentID SenderID ReceiverID EventType  EventLength\n",
       "0  2011-08-06 04:00:35     62560   176422      62560         1            9\n",
       "1  2011-08-06 04:28:00     62560   176422      62560         1           31\n",
       "2  2011-08-07 19:35:55     62560   176422      62560         1          100\n",
       "3  2011-08-07 20:33:52     62560   176422      62560         1          153\n",
       "4  2011-08-07 20:34:02     62560   176422      62560         1           32"
      ]
     },
     "execution_count": 3,
     "metadata": {},
     "output_type": "execute_result"
    }
   ],
   "source": [
    "data.head()"
   ]
  },
  {
   "cell_type": "markdown",
   "id": "joined-installation",
   "metadata": {},
   "source": [
    "## Data summary"
   ]
  },
  {
   "cell_type": "code",
   "execution_count": 4,
   "id": "cooked-authorization",
   "metadata": {},
   "outputs": [
    {
     "name": "stdout",
     "output_type": "stream",
     "text": [
      "<class 'pandas.core.frame.DataFrame'>\n",
      "RangeIndex: 7575865 entries, 0 to 7575864\n",
      "Data columns (total 6 columns):\n",
      " #   Column       Dtype \n",
      "---  ------       ----- \n",
      " 0   EventTime    object\n",
      " 1   StudentID    object\n",
      " 2   SenderID     object\n",
      " 3   ReceiverID   object\n",
      " 4   EventType    object\n",
      " 5   EventLength  int64 \n",
      "dtypes: int64(1), object(5)\n",
      "memory usage: 346.8+ MB\n"
     ]
    }
   ],
   "source": [
    "data.info()"
   ]
  },
  {
   "cell_type": "code",
   "execution_count": 18,
   "id": "indie-sampling",
   "metadata": {},
   "outputs": [
    {
     "data": {
      "text/html": [
       "<div>\n",
       "<style scoped>\n",
       "    .dataframe tbody tr th:only-of-type {\n",
       "        vertical-align: middle;\n",
       "    }\n",
       "\n",
       "    .dataframe tbody tr th {\n",
       "        vertical-align: top;\n",
       "    }\n",
       "\n",
       "    .dataframe thead th {\n",
       "        text-align: right;\n",
       "    }\n",
       "</style>\n",
       "<table border=\"1\" class=\"dataframe\">\n",
       "  <thead>\n",
       "    <tr style=\"text-align: right;\">\n",
       "      <th></th>\n",
       "      <th>count</th>\n",
       "      <th>unique</th>\n",
       "      <th>top</th>\n",
       "      <th>freq</th>\n",
       "      <th>mean</th>\n",
       "      <th>std</th>\n",
       "      <th>min</th>\n",
       "      <th>25%</th>\n",
       "      <th>50%</th>\n",
       "      <th>75%</th>\n",
       "      <th>max</th>\n",
       "    </tr>\n",
       "  </thead>\n",
       "  <tbody>\n",
       "    <tr>\n",
       "      <th>EventTime</th>\n",
       "      <td>7575865</td>\n",
       "      <td>6859244</td>\n",
       "      <td>2012-12-25 05:28:08</td>\n",
       "      <td>50</td>\n",
       "      <td>NaN</td>\n",
       "      <td>NaN</td>\n",
       "      <td>NaN</td>\n",
       "      <td>NaN</td>\n",
       "      <td>NaN</td>\n",
       "      <td>NaN</td>\n",
       "      <td>NaN</td>\n",
       "    </tr>\n",
       "    <tr>\n",
       "      <th>StudentID</th>\n",
       "      <td>7575865</td>\n",
       "      <td>218</td>\n",
       "      <td>51102</td>\n",
       "      <td>137742</td>\n",
       "      <td>NaN</td>\n",
       "      <td>NaN</td>\n",
       "      <td>NaN</td>\n",
       "      <td>NaN</td>\n",
       "      <td>NaN</td>\n",
       "      <td>NaN</td>\n",
       "      <td>NaN</td>\n",
       "    </tr>\n",
       "    <tr>\n",
       "      <th>SenderID</th>\n",
       "      <td>7575865</td>\n",
       "      <td>23351</td>\n",
       "      <td>121</td>\n",
       "      <td>78886</td>\n",
       "      <td>NaN</td>\n",
       "      <td>NaN</td>\n",
       "      <td>NaN</td>\n",
       "      <td>NaN</td>\n",
       "      <td>NaN</td>\n",
       "      <td>NaN</td>\n",
       "      <td>NaN</td>\n",
       "    </tr>\n",
       "    <tr>\n",
       "      <th>ReceiverID</th>\n",
       "      <td>7575865</td>\n",
       "      <td>30917</td>\n",
       "      <td>51102</td>\n",
       "      <td>76968</td>\n",
       "      <td>NaN</td>\n",
       "      <td>NaN</td>\n",
       "      <td>NaN</td>\n",
       "      <td>NaN</td>\n",
       "      <td>NaN</td>\n",
       "      <td>NaN</td>\n",
       "      <td>NaN</td>\n",
       "    </tr>\n",
       "    <tr>\n",
       "      <th>EventType</th>\n",
       "      <td>7575865</td>\n",
       "      <td>2</td>\n",
       "      <td>1</td>\n",
       "      <td>7096844</td>\n",
       "      <td>NaN</td>\n",
       "      <td>NaN</td>\n",
       "      <td>NaN</td>\n",
       "      <td>NaN</td>\n",
       "      <td>NaN</td>\n",
       "      <td>NaN</td>\n",
       "      <td>NaN</td>\n",
       "    </tr>\n",
       "    <tr>\n",
       "      <th>EventLength</th>\n",
       "      <td>7575865.0</td>\n",
       "      <td>NaN</td>\n",
       "      <td>NaN</td>\n",
       "      <td>NaN</td>\n",
       "      <td>56.345224</td>\n",
       "      <td>134.764799</td>\n",
       "      <td>0.0</td>\n",
       "      <td>17.0</td>\n",
       "      <td>35.0</td>\n",
       "      <td>67.0</td>\n",
       "      <td>26649.0</td>\n",
       "    </tr>\n",
       "  </tbody>\n",
       "</table>\n",
       "</div>"
      ],
      "text/plain": [
       "                 count   unique                  top     freq       mean  \\\n",
       "EventTime      7575865  6859244  2012-12-25 05:28:08       50        NaN   \n",
       "StudentID      7575865      218                51102   137742        NaN   \n",
       "SenderID       7575865    23351                  121    78886        NaN   \n",
       "ReceiverID     7575865    30917                51102    76968        NaN   \n",
       "EventType      7575865        2                    1  7096844        NaN   \n",
       "EventLength  7575865.0      NaN                  NaN      NaN  56.345224   \n",
       "\n",
       "                    std  min   25%   50%   75%      max  \n",
       "EventTime           NaN  NaN   NaN   NaN   NaN      NaN  \n",
       "StudentID           NaN  NaN   NaN   NaN   NaN      NaN  \n",
       "SenderID            NaN  NaN   NaN   NaN   NaN      NaN  \n",
       "ReceiverID          NaN  NaN   NaN   NaN   NaN      NaN  \n",
       "EventType           NaN  NaN   NaN   NaN   NaN      NaN  \n",
       "EventLength  134.764799  0.0  17.0  35.0  67.0  26649.0  "
      ]
     },
     "execution_count": 18,
     "metadata": {},
     "output_type": "execute_result"
    }
   ],
   "source": [
    "data.describe(include='all').transpose()"
   ]
  },
  {
   "cell_type": "markdown",
   "id": "animal-manchester",
   "metadata": {},
   "source": [
    "## Data cleaning"
   ]
  },
  {
   "cell_type": "markdown",
   "id": "clinical-bradford",
   "metadata": {},
   "source": [
    "### Remove unwanted senders and recievers"
   ]
  },
  {
   "cell_type": "code",
   "execution_count": 5,
   "id": "warming-patch",
   "metadata": {},
   "outputs": [
    {
     "data": {
      "text/plain": [
       "(537575, 6)"
      ]
     },
     "execution_count": 5,
     "metadata": {},
     "output_type": "execute_result"
    }
   ],
   "source": [
    "data.drop(data[~(data['SenderID'].map(len) == 5) | ~(data['ReceiverID'].map(len) == 5)].index, inplace=True)\n",
    "data.shape"
   ]
  },
  {
   "cell_type": "code",
   "execution_count": 6,
   "id": "fluid-accused",
   "metadata": {},
   "outputs": [
    {
     "data": {
      "text/html": [
       "<div>\n",
       "<style scoped>\n",
       "    .dataframe tbody tr th:only-of-type {\n",
       "        vertical-align: middle;\n",
       "    }\n",
       "\n",
       "    .dataframe tbody tr th {\n",
       "        vertical-align: top;\n",
       "    }\n",
       "\n",
       "    .dataframe thead th {\n",
       "        text-align: right;\n",
       "    }\n",
       "</style>\n",
       "<table border=\"1\" class=\"dataframe\">\n",
       "  <thead>\n",
       "    <tr style=\"text-align: right;\">\n",
       "      <th></th>\n",
       "      <th>EventTime</th>\n",
       "      <th>StudentID</th>\n",
       "      <th>SenderID</th>\n",
       "      <th>ReceiverID</th>\n",
       "      <th>EventType</th>\n",
       "      <th>EventLength</th>\n",
       "    </tr>\n",
       "  </thead>\n",
       "  <tbody>\n",
       "    <tr>\n",
       "      <th>41</th>\n",
       "      <td>2011-08-15 20:03:31</td>\n",
       "      <td>20905</td>\n",
       "      <td>20905</td>\n",
       "      <td>13116</td>\n",
       "      <td>0</td>\n",
       "      <td>15</td>\n",
       "    </tr>\n",
       "    <tr>\n",
       "      <th>42</th>\n",
       "      <td>2011-08-15 20:03:37</td>\n",
       "      <td>13116</td>\n",
       "      <td>20905</td>\n",
       "      <td>13116</td>\n",
       "      <td>0</td>\n",
       "      <td>0</td>\n",
       "    </tr>\n",
       "    <tr>\n",
       "      <th>52</th>\n",
       "      <td>2011-08-15 20:47:40</td>\n",
       "      <td>75178</td>\n",
       "      <td>75178</td>\n",
       "      <td>30952</td>\n",
       "      <td>0</td>\n",
       "      <td>39</td>\n",
       "    </tr>\n",
       "    <tr>\n",
       "      <th>53</th>\n",
       "      <td>2011-08-15 20:47:50</td>\n",
       "      <td>30952</td>\n",
       "      <td>75178</td>\n",
       "      <td>30952</td>\n",
       "      <td>0</td>\n",
       "      <td>23</td>\n",
       "    </tr>\n",
       "    <tr>\n",
       "      <th>54</th>\n",
       "      <td>2011-08-15 20:48:52</td>\n",
       "      <td>75178</td>\n",
       "      <td>75178</td>\n",
       "      <td>60830</td>\n",
       "      <td>0</td>\n",
       "      <td>14</td>\n",
       "    </tr>\n",
       "  </tbody>\n",
       "</table>\n",
       "</div>"
      ],
      "text/plain": [
       "              EventTime StudentID SenderID ReceiverID EventType  EventLength\n",
       "41  2011-08-15 20:03:31     20905    20905      13116         0           15\n",
       "42  2011-08-15 20:03:37     13116    20905      13116         0            0\n",
       "52  2011-08-15 20:47:40     75178    75178      30952         0           39\n",
       "53  2011-08-15 20:47:50     30952    75178      30952         0           23\n",
       "54  2011-08-15 20:48:52     75178    75178      60830         0           14"
      ]
     },
     "execution_count": 6,
     "metadata": {},
     "output_type": "execute_result"
    }
   ],
   "source": [
    "data.head()"
   ]
  },
  {
   "cell_type": "markdown",
   "id": "changing-poland",
   "metadata": {},
   "source": [
    "### Remove duplicates"
   ]
  },
  {
   "cell_type": "code",
   "execution_count": 7,
   "id": "saved-maximum",
   "metadata": {},
   "outputs": [],
   "source": [
    "time_delta = pd.Timedelta('15 s')"
   ]
  },
  {
   "cell_type": "code",
   "execution_count": 8,
   "id": "automated-order",
   "metadata": {},
   "outputs": [],
   "source": [
    "new_data = data.copy()"
   ]
  },
  {
   "cell_type": "code",
   "execution_count": 9,
   "id": "english-inclusion",
   "metadata": {},
   "outputs": [],
   "source": [
    "new_data['EventTime'] = pd.to_datetime(new_data['EventTime'])"
   ]
  },
  {
   "cell_type": "code",
   "execution_count": 10,
   "id": "valued-closing",
   "metadata": {},
   "outputs": [],
   "source": [
    "# Remove rows with analogous StudentID, SenderID and RecieverID, that are moved in time maxiamally by 15 seconds.\n",
    "def is_duplicate(row, df):\n",
    "    duplicates = df[\n",
    "        (df['EventTime'] >= row['EventTime'] - time_delta) & \n",
    "        (df['EventTime'] < row['EventTime']) &\n",
    "        (df['SenderID'] == row['SenderID']) &\n",
    "        (df['ReceiverID'] == row['ReceiverID']) &\n",
    "        (df['SenderID'] == row['SenderID'])\n",
    "    ]\n",
    "    return len(duplicates) > 0"
   ]
  },
  {
   "cell_type": "code",
   "execution_count": 98,
   "id": "entitled-nutrition",
   "metadata": {},
   "outputs": [],
   "source": [
    "new_data2 = new_data[new_data['EventTime'] < dti].copy()"
   ]
  },
  {
   "cell_type": "code",
   "execution_count": 12,
   "id": "moving-exhibition",
   "metadata": {
    "scrolled": true
   },
   "outputs": [
    {
     "name": "stdout",
     "output_type": "stream",
     "text": [
      "Wall time: 17h 40min 46s\n"
     ]
    }
   ],
   "source": [
    "%time new_data['IsDuplicate'] = new_data.apply(lambda row: is_duplicate(row, new_data), axis=1)"
   ]
  },
  {
   "cell_type": "code",
   "execution_count": 99,
   "id": "selected-indianapolis",
   "metadata": {},
   "outputs": [
    {
     "name": "stdout",
     "output_type": "stream",
     "text": [
      "Wall time: 48min 24s\n"
     ]
    }
   ],
   "source": [
    "%time new_data2['IsDuplicate'] = new_data2.apply(lambda row: is_duplicate(row, new_data2), axis=1)"
   ]
  },
  {
   "cell_type": "code",
   "execution_count": 121,
   "id": "russian-chile",
   "metadata": {},
   "outputs": [],
   "source": [
    "new_data2 = pd.read_csv(\n",
    "    'TelcoData_before-2012_cleaned_marked-duplicates.csv',\n",
    "    sep=';',\n",
    "    dtype={'StudentID': object, 'SenderID': object, 'ReceiverID': object, 'EventType': object, 'IsDuplicate': bool}\n",
    ")"
   ]
  },
  {
   "cell_type": "code",
   "execution_count": 14,
   "id": "liked-arthritis",
   "metadata": {},
   "outputs": [
    {
     "data": {
      "text/plain": [
       "(537575, 7)"
      ]
     },
     "execution_count": 14,
     "metadata": {},
     "output_type": "execute_result"
    }
   ],
   "source": [
    "new_data.shape"
   ]
  },
  {
   "cell_type": "code",
   "execution_count": 15,
   "id": "cultural-runner",
   "metadata": {},
   "outputs": [
    {
     "data": {
      "text/plain": [
       "(153997, 7)"
      ]
     },
     "execution_count": 15,
     "metadata": {},
     "output_type": "execute_result"
    }
   ],
   "source": [
    "new_data[new_data['IsDuplicate'] == True].shape"
   ]
  },
  {
   "cell_type": "code",
   "execution_count": 16,
   "id": "infectious-singapore",
   "metadata": {},
   "outputs": [],
   "source": [
    "new_data.drop(new_data[new_data['IsDuplicate'] == True].index, inplace=True)"
   ]
  },
  {
   "cell_type": "code",
   "execution_count": 18,
   "id": "proved-render",
   "metadata": {},
   "outputs": [
    {
     "data": {
      "text/plain": [
       "214"
      ]
     },
     "execution_count": 18,
     "metadata": {},
     "output_type": "execute_result"
    }
   ],
   "source": [
    "new_data['StudentID'].nunique()"
   ]
  },
  {
   "cell_type": "code",
   "execution_count": 19,
   "id": "difficult-stick",
   "metadata": {},
   "outputs": [],
   "source": [
    "for sid in new_data['StudentID'].unique():\n",
    "    new_data[new_data['StudentID'] == sid][['SenderID', 'ReceiverID', 'EventTime']].to_csv('stud/telcodata-' + sid + '.csv', sep=';', index=False)"
   ]
  },
  {
   "cell_type": "code",
   "execution_count": 139,
   "id": "southern-nurse",
   "metadata": {},
   "outputs": [],
   "source": [
    "new_data[new_data['StudentID'] == '10060'][['SenderID', 'ReceiverID', 'EventTime']].to_csv('stud/telcodata-10060.csv', sep=';', index=False)"
   ]
  },
  {
   "cell_type": "code",
   "execution_count": 137,
   "id": "proper-waters",
   "metadata": {},
   "outputs": [],
   "source": [
    "del new_data2['IsDuplicate']"
   ]
  },
  {
   "cell_type": "code",
   "execution_count": 13,
   "id": "moderate-confidence",
   "metadata": {},
   "outputs": [],
   "source": [
    "new_data.to_csv('TelcoData_cleaned_marked-duplicates.csv', sep=';', index=False)"
   ]
  },
  {
   "cell_type": "markdown",
   "id": "unauthorized-princess",
   "metadata": {},
   "source": [
    "## Clean data summary"
   ]
  },
  {
   "cell_type": "code",
   "execution_count": 6,
   "id": "executed-capitol",
   "metadata": {},
   "outputs": [
    {
     "data": {
      "text/html": [
       "<div>\n",
       "<style scoped>\n",
       "    .dataframe tbody tr th:only-of-type {\n",
       "        vertical-align: middle;\n",
       "    }\n",
       "\n",
       "    .dataframe tbody tr th {\n",
       "        vertical-align: top;\n",
       "    }\n",
       "\n",
       "    .dataframe thead th {\n",
       "        text-align: right;\n",
       "    }\n",
       "</style>\n",
       "<table border=\"1\" class=\"dataframe\">\n",
       "  <thead>\n",
       "    <tr style=\"text-align: right;\">\n",
       "      <th></th>\n",
       "      <th>count</th>\n",
       "      <th>unique</th>\n",
       "      <th>top</th>\n",
       "      <th>freq</th>\n",
       "      <th>mean</th>\n",
       "      <th>std</th>\n",
       "      <th>min</th>\n",
       "      <th>25%</th>\n",
       "      <th>50%</th>\n",
       "      <th>75%</th>\n",
       "      <th>max</th>\n",
       "    </tr>\n",
       "  </thead>\n",
       "  <tbody>\n",
       "    <tr>\n",
       "      <th>EventTime</th>\n",
       "      <td>537575</td>\n",
       "      <td>521130</td>\n",
       "      <td>2011-10-18 19:04:30</td>\n",
       "      <td>10</td>\n",
       "      <td>NaN</td>\n",
       "      <td>NaN</td>\n",
       "      <td>NaN</td>\n",
       "      <td>NaN</td>\n",
       "      <td>NaN</td>\n",
       "      <td>NaN</td>\n",
       "      <td>NaN</td>\n",
       "    </tr>\n",
       "    <tr>\n",
       "      <th>StudentID</th>\n",
       "      <td>537575</td>\n",
       "      <td>214</td>\n",
       "      <td>68494</td>\n",
       "      <td>37964</td>\n",
       "      <td>NaN</td>\n",
       "      <td>NaN</td>\n",
       "      <td>NaN</td>\n",
       "      <td>NaN</td>\n",
       "      <td>NaN</td>\n",
       "      <td>NaN</td>\n",
       "      <td>NaN</td>\n",
       "    </tr>\n",
       "    <tr>\n",
       "      <th>SenderID</th>\n",
       "      <td>537575</td>\n",
       "      <td>229</td>\n",
       "      <td>13799</td>\n",
       "      <td>29268</td>\n",
       "      <td>NaN</td>\n",
       "      <td>NaN</td>\n",
       "      <td>NaN</td>\n",
       "      <td>NaN</td>\n",
       "      <td>NaN</td>\n",
       "      <td>NaN</td>\n",
       "      <td>NaN</td>\n",
       "    </tr>\n",
       "    <tr>\n",
       "      <th>ReceiverID</th>\n",
       "      <td>537575</td>\n",
       "      <td>229</td>\n",
       "      <td>68494</td>\n",
       "      <td>33425</td>\n",
       "      <td>NaN</td>\n",
       "      <td>NaN</td>\n",
       "      <td>NaN</td>\n",
       "      <td>NaN</td>\n",
       "      <td>NaN</td>\n",
       "      <td>NaN</td>\n",
       "      <td>NaN</td>\n",
       "    </tr>\n",
       "    <tr>\n",
       "      <th>EventType</th>\n",
       "      <td>537575</td>\n",
       "      <td>2</td>\n",
       "      <td>1</td>\n",
       "      <td>503221</td>\n",
       "      <td>NaN</td>\n",
       "      <td>NaN</td>\n",
       "      <td>NaN</td>\n",
       "      <td>NaN</td>\n",
       "      <td>NaN</td>\n",
       "      <td>NaN</td>\n",
       "      <td>NaN</td>\n",
       "    </tr>\n",
       "    <tr>\n",
       "      <th>EventLength</th>\n",
       "      <td>537575.0</td>\n",
       "      <td>NaN</td>\n",
       "      <td>NaN</td>\n",
       "      <td>NaN</td>\n",
       "      <td>51.030976</td>\n",
       "      <td>103.28941</td>\n",
       "      <td>0.0</td>\n",
       "      <td>17.0</td>\n",
       "      <td>34.0</td>\n",
       "      <td>65.0</td>\n",
       "      <td>17052.0</td>\n",
       "    </tr>\n",
       "  </tbody>\n",
       "</table>\n",
       "</div>"
      ],
      "text/plain": [
       "                count  unique                  top    freq       mean  \\\n",
       "EventTime      537575  521130  2011-10-18 19:04:30      10        NaN   \n",
       "StudentID      537575     214                68494   37964        NaN   \n",
       "SenderID       537575     229                13799   29268        NaN   \n",
       "ReceiverID     537575     229                68494   33425        NaN   \n",
       "EventType      537575       2                    1  503221        NaN   \n",
       "EventLength  537575.0     NaN                  NaN     NaN  51.030976   \n",
       "\n",
       "                   std  min   25%   50%   75%      max  \n",
       "EventTime          NaN  NaN   NaN   NaN   NaN      NaN  \n",
       "StudentID          NaN  NaN   NaN   NaN   NaN      NaN  \n",
       "SenderID           NaN  NaN   NaN   NaN   NaN      NaN  \n",
       "ReceiverID         NaN  NaN   NaN   NaN   NaN      NaN  \n",
       "EventType          NaN  NaN   NaN   NaN   NaN      NaN  \n",
       "EventLength  103.28941  0.0  17.0  34.0  65.0  17052.0  "
      ]
     },
     "execution_count": 6,
     "metadata": {},
     "output_type": "execute_result"
    }
   ],
   "source": [
    "data.describe(include='all').transpose()"
   ]
  },
  {
   "cell_type": "code",
   "execution_count": 92,
   "id": "extreme-testament",
   "metadata": {},
   "outputs": [
    {
     "data": {
      "text/html": [
       "<div>\n",
       "<style scoped>\n",
       "    .dataframe tbody tr th:only-of-type {\n",
       "        vertical-align: middle;\n",
       "    }\n",
       "\n",
       "    .dataframe tbody tr th {\n",
       "        vertical-align: top;\n",
       "    }\n",
       "\n",
       "    .dataframe thead th {\n",
       "        text-align: right;\n",
       "    }\n",
       "</style>\n",
       "<table border=\"1\" class=\"dataframe\">\n",
       "  <thead>\n",
       "    <tr style=\"text-align: right;\">\n",
       "      <th></th>\n",
       "      <th>EventTime</th>\n",
       "      <th>StudentID</th>\n",
       "      <th>SenderID</th>\n",
       "      <th>ReceiverID</th>\n",
       "      <th>EventType</th>\n",
       "      <th>EventLength</th>\n",
       "    </tr>\n",
       "  </thead>\n",
       "  <tbody>\n",
       "    <tr>\n",
       "      <th>7575581</th>\n",
       "      <td>2014-08-21 21:14:48</td>\n",
       "      <td>78911</td>\n",
       "      <td>51722</td>\n",
       "      <td>78911</td>\n",
       "      <td>1</td>\n",
       "      <td>21</td>\n",
       "    </tr>\n",
       "    <tr>\n",
       "      <th>7575582</th>\n",
       "      <td>2014-08-21 21:15:46</td>\n",
       "      <td>78911</td>\n",
       "      <td>78911</td>\n",
       "      <td>51722</td>\n",
       "      <td>1</td>\n",
       "      <td>6</td>\n",
       "    </tr>\n",
       "    <tr>\n",
       "      <th>7575640</th>\n",
       "      <td>2014-08-21 23:52:42</td>\n",
       "      <td>98453</td>\n",
       "      <td>98453</td>\n",
       "      <td>86352</td>\n",
       "      <td>0</td>\n",
       "      <td>29</td>\n",
       "    </tr>\n",
       "    <tr>\n",
       "      <th>7575642</th>\n",
       "      <td>2014-08-22 00:20:50</td>\n",
       "      <td>78911</td>\n",
       "      <td>51722</td>\n",
       "      <td>78911</td>\n",
       "      <td>1</td>\n",
       "      <td>5</td>\n",
       "    </tr>\n",
       "    <tr>\n",
       "      <th>7575643</th>\n",
       "      <td>2014-08-22 00:23:55</td>\n",
       "      <td>78911</td>\n",
       "      <td>78911</td>\n",
       "      <td>51722</td>\n",
       "      <td>1</td>\n",
       "      <td>24</td>\n",
       "    </tr>\n",
       "  </tbody>\n",
       "</table>\n",
       "</div>"
      ],
      "text/plain": [
       "                   EventTime StudentID SenderID ReceiverID EventType  \\\n",
       "7575581  2014-08-21 21:14:48     78911    51722      78911         1   \n",
       "7575582  2014-08-21 21:15:46     78911    78911      51722         1   \n",
       "7575640  2014-08-21 23:52:42     98453    98453      86352         0   \n",
       "7575642  2014-08-22 00:20:50     78911    51722      78911         1   \n",
       "7575643  2014-08-22 00:23:55     78911    78911      51722         1   \n",
       "\n",
       "         EventLength  \n",
       "7575581           21  \n",
       "7575582            6  \n",
       "7575640           29  \n",
       "7575642            5  \n",
       "7575643           24  "
      ]
     },
     "execution_count": 92,
     "metadata": {},
     "output_type": "execute_result"
    }
   ],
   "source": [
    "data.tail(5)"
   ]
  },
  {
   "cell_type": "markdown",
   "id": "organic-immune",
   "metadata": {},
   "source": [
    "## Saving clean telco data"
   ]
  },
  {
   "cell_type": "code",
   "execution_count": 93,
   "id": "varying-grass",
   "metadata": {},
   "outputs": [],
   "source": [
    "# todo: code"
   ]
  },
  {
   "cell_type": "markdown",
   "id": "serious-passage",
   "metadata": {},
   "source": [
    "# Input data generation"
   ]
  },
  {
   "cell_type": "markdown",
   "id": "isolated-devil",
   "metadata": {},
   "source": [
    "## Model parameters\n",
    "\n",
    "ForgettingType;Days;Mu;Theta;Lambda;Unit  \n",
    "exponential;3;0.3;0.2;0.00563145983483561;3600"
   ]
  },
  {
   "cell_type": "code",
   "execution_count": 77,
   "id": "meaning-password",
   "metadata": {},
   "outputs": [],
   "source": [
    "rows = [('exponential', 3, 0.3, 0.2, 0.00563145983483561, 3600)]\n",
    "df = pd.DataFrame(rows, columns =['ForgettingType', 'Days', 'Mu', 'Theta', 'Lambda', 'Unit'])\n",
    "df.to_csv('modelparameters.csv', sep=';', index=False)"
   ]
  },
  {
   "cell_type": "markdown",
   "id": "velvet-facility",
   "metadata": {},
   "source": [
    "## Survey dates\n",
    "\n",
    "StudentID;SurveyNo;CompletionDate  \n",
    "10060;2;2012-01-29 21:35:00"
   ]
  },
  {
   "cell_type": "code",
   "execution_count": 91,
   "id": "diagnostic-structure",
   "metadata": {},
   "outputs": [],
   "source": [
    "rows = []\n",
    "\n",
    "fst_date = new_data['EventTime'][41]\n",
    "last_date = new_data['EventTime'][7575643]\n",
    "nr_days = (last_date - fst_date).days + 1\n",
    "dates = [fst_date + pd.Timedelta(str(i+1)+' d') for i in range(nr_days)]\n",
    "\n",
    "student_ids = set(data['SenderID'])\n",
    "\n",
    "for s in student_ids:\n",
    "    for i, d in enumerate(dates):\n",
    "        rows.append((s, i+1, d))\n",
    "        \n",
    "df = pd.DataFrame(rows, columns =['StudentID', 'SurveyNo', 'CompletionDate'])\n",
    "df.to_csv('surveydates.csv', sep=';', index=False)"
   ]
  },
  {
   "cell_type": "markdown",
   "id": "enabling-german",
   "metadata": {},
   "source": [
    "# Insights\n"
   ]
  },
  {
   "cell_type": "markdown",
   "id": "stopped-bargain",
   "metadata": {},
   "source": [
    "## Nr events in time"
   ]
  },
  {
   "cell_type": "code",
   "execution_count": 90,
   "id": "necessary-serum",
   "metadata": {},
   "outputs": [
    {
     "data": {
      "text/plain": [
       "EventTime  EventTime\n",
       "2011       8            14063\n",
       "           9            27384\n",
       "           10           23010\n",
       "           11           20661\n",
       "           12           20019\n",
       "2012       1            20438\n",
       "           2            24946\n",
       "           3            25102\n",
       "           4            21412\n",
       "           5            21346\n",
       "           6            14028\n",
       "           7            16553\n",
       "           8            19755\n",
       "           9            21791\n",
       "           10           17567\n",
       "           11           19549\n",
       "           12           18347\n",
       "2013       1            16475\n",
       "           2            14939\n",
       "           3            14159\n",
       "           4            13323\n",
       "           5            12381\n",
       "           6             7032\n",
       "           7             9893\n",
       "           8            14799\n",
       "           9             8606\n",
       "           10            6301\n",
       "           11            7219\n",
       "           12            8666\n",
       "2014       1            11445\n",
       "           2            11025\n",
       "           3            11409\n",
       "           4            10157\n",
       "           5             6058\n",
       "           6             5122\n",
       "           7             2341\n",
       "           8              254\n",
       "Name: EventTime, dtype: int64"
      ]
     },
     "execution_count": 90,
     "metadata": {},
     "output_type": "execute_result"
    }
   ],
   "source": [
    "# todo: plot it nicely\n",
    "new_data['EventTime'].groupby([new_data.EventTime.dt.year, new_data.EventTime.dt.month]).agg('count')"
   ]
  },
  {
   "cell_type": "code",
   "execution_count": null,
   "id": "hourly-stroke",
   "metadata": {},
   "outputs": [],
   "source": []
  }
 ],
 "metadata": {
  "kernelspec": {
   "display_name": "Python 3",
   "language": "python",
   "name": "python3"
  },
  "language_info": {
   "codemirror_mode": {
    "name": "ipython",
    "version": 3
   },
   "file_extension": ".py",
   "mimetype": "text/x-python",
   "name": "python",
   "nbconvert_exporter": "python",
   "pygments_lexer": "ipython3",
   "version": "3.8.8"
  },
  "latex_envs": {
   "LaTeX_envs_menu_present": true,
   "autoclose": false,
   "autocomplete": true,
   "bibliofile": "biblio.bib",
   "cite_by": "apalike",
   "current_citInitial": 1,
   "eqLabelWithNumbers": true,
   "eqNumInitial": 1,
   "hotkeys": {
    "equation": "Ctrl-E",
    "itemize": "Ctrl-I"
   },
   "labels_anchors": false,
   "latex_user_defs": false,
   "report_style_numbering": false,
   "user_envs_cfg": false
  },
  "toc": {
   "base_numbering": 1,
   "nav_menu": {
    "height": "472.767px",
    "width": "380.767px"
   },
   "number_sections": true,
   "sideBar": true,
   "skip_h1_title": false,
   "title_cell": "Table of Contents",
   "title_sidebar": "Contents",
   "toc_cell": false,
   "toc_position": {
    "height": "calc(100% - 180px)",
    "left": "10px",
    "top": "150px",
    "width": "469.333px"
   },
   "toc_section_display": true,
   "toc_window_display": true
  },
  "varInspector": {
   "cols": {
    "lenName": 16,
    "lenType": 16,
    "lenVar": 40
   },
   "kernels_config": {
    "python": {
     "delete_cmd_postfix": "",
     "delete_cmd_prefix": "del ",
     "library": "var_list.py",
     "varRefreshCmd": "print(var_dic_list())"
    },
    "r": {
     "delete_cmd_postfix": ") ",
     "delete_cmd_prefix": "rm(",
     "library": "var_list.r",
     "varRefreshCmd": "cat(var_dic_list()) "
    }
   },
   "types_to_exclude": [
    "module",
    "function",
    "builtin_function_or_method",
    "instance",
    "_Feature"
   ],
   "window_display": false
  }
 },
 "nbformat": 4,
 "nbformat_minor": 5
}
