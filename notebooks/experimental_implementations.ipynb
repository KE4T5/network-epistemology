{
 "cells": [
  {
   "cell_type": "markdown",
   "metadata": {},
   "source": [
    "# First implementation from Julia"
   ]
  },
  {
   "cell_type": "code",
   "execution_count": null,
   "metadata": {},
   "outputs": [],
   "source": [
    "import networkx as nx\n",
    "from scipy.stats import binom\n",
    "import numpy as np\n",
    "from statistics import mean"
   ]
  },
  {
   "cell_type": "code",
   "execution_count": 20,
   "metadata": {},
   "outputs": [],
   "source": [
    "ALPHA_PROB = 0.5\n",
    "BETA_PROB = 0.6\n",
    "\n",
    "def get_evidence(conf, nr_trials):\n",
    "    if conf > 0.5:\n",
    "        return np.random.binomial(nr_trials, BETA_PROB) / nr_trials\n",
    "    else:\n",
    "        return np.random.binomial(nr_trials, ALPHA_PROB) / nr_trials\n",
    "\n",
    "    \n",
    "def update_confidence(conf, evidences):\n",
    "    new_confidence = np.mean([conf, np.mean(evidences)])\n",
    "    return new_confidence\n",
    "    \n",
    "    \n",
    "class DEpiNet:\n",
    "    def __init__(self, net, conf_mean, conf_sd):\n",
    "        self.structure = net\n",
    "        confidences = np.random.normal(conf_mean, conf_sd, len(self.structure.nodes))\n",
    "        for i in range(len(self.structure.nodes)):\n",
    "            self.structure.nodes[i]['confidence'] = confidences[i]"
   ]
  },
  {
   "cell_type": "code",
   "execution_count": 21,
   "metadata": {},
   "outputs": [],
   "source": [
    "G = nx.complete_graph(10)"
   ]
  },
  {
   "cell_type": "code",
   "execution_count": 22,
   "metadata": {},
   "outputs": [],
   "source": [
    "from netwulf import visualize"
   ]
  },
  {
   "cell_type": "code",
   "execution_count": 28,
   "metadata": {},
   "outputs": [
    {
     "data": {
      "text/plain": [
       "({'xlim': [0, 926],\n",
       "  'ylim': [0, 926],\n",
       "  'linkColor': '#0010ff',\n",
       "  'linkAlpha': 0.5886488076685994,\n",
       "  'nodeStrokeColor': '#000000',\n",
       "  'nodeStrokeWidth': 4.657599442008211,\n",
       "  'links': [],\n",
       "  'nodes': [{'id': 0,\n",
       "    'x': 466.03178696857054,\n",
       "    'y': 483.0199243919848,\n",
       "    'x_canvas': 486.16506833088624,\n",
       "    'y_canvas': 615.9668546395792,\n",
       "    'radius': 38.669276800454185,\n",
       "    'color': '#b60017'},\n",
       "   {'id': 1,\n",
       "    'x': 437.9640298112636,\n",
       "    'y': 506.93153661475594,\n",
       "    'x_canvas': 271.70688931499944,\n",
       "    'y_canvas': 798.6690486869766,\n",
       "    'radius': 38.669276800454185,\n",
       "    'color': '#b60017'},\n",
       "   {'id': 2,\n",
       "    'x': 441.8115707740617,\n",
       "    'y': 420.35862009936625,\n",
       "    'x_canvas': 301.10491438505414,\n",
       "    'y_canvas': 137.1886915665491,\n",
       "    'radius': 38.669276800454185,\n",
       "    'color': '#b60017'},\n",
       "   {'id': 3,\n",
       "    'x': 512.4632960638706,\n",
       "    'y': 477.41378445496713,\n",
       "    'x_canvas': 840.9357339644007,\n",
       "    'y_canvas': 573.1318480709101,\n",
       "    'radius': 38.669276800454185,\n",
       "    'color': '#b60017'},\n",
       "   {'id': 4,\n",
       "    'x': 472.71693738466115,\n",
       "    'y': 452.99684404012294,\n",
       "    'x_canvas': 537.2445035934525,\n",
       "    'y_canvas': 386.5685772987149,\n",
       "    'radius': 38.669276800454185,\n",
       "    'color': '#b60017'},\n",
       "   {'id': 5,\n",
       "    'x': 475.3441162074237,\n",
       "    'y': 414.2237346146567,\n",
       "    'x_canvas': 557.3180699678883,\n",
       "    'y_canvas': 90.31368256073301,\n",
       "    'radius': 38.669276800454185,\n",
       "    'color': '#b60017'},\n",
       "   {'id': 6,\n",
       "    'x': 480.6936891746844,\n",
       "    'y': 514.3336763751631,\n",
       "    'x_canvas': 598.1927173663776,\n",
       "    'y_canvas': 855.2268065776798,\n",
       "    'radius': 38.669276800454185,\n",
       "    'color': '#b60017'},\n",
       "   {'id': 7,\n",
       "    'x': 419.6793127041562,\n",
       "    'y': 444.9727017915173,\n",
       "    'x_canvas': 131.99828657079934,\n",
       "    'y_canvas': 325.2582657851917,\n",
       "    'radius': 38.669276800454185,\n",
       "    'color': '#b60017'},\n",
       "   {'id': 8,\n",
       "    'x': 507.1360868383578,\n",
       "    'y': 439.03888299964484,\n",
       "    'x_canvas': 800.2319618982137,\n",
       "    'y_canvas': 279.9195532695062,\n",
       "    'radius': 38.669276800454185,\n",
       "    'color': '#b60017'},\n",
       "   {'id': 9,\n",
       "    'x': 416.1593963579101,\n",
       "    'y': 476.71005461802366,\n",
       "    'x_canvas': 105.10355302748621,\n",
       "    'y_canvas': 567.7548377702942,\n",
       "    'radius': 38.669276800454185,\n",
       "    'color': '#b60017'}]},\n",
       " {'zoom': 4.3203654430588525,\n",
       "  'node_charge': -45,\n",
       "  'node_gravity': 0.1,\n",
       "  'link_distance': 15,\n",
       "  'link_distance_variation': 0,\n",
       "  'node_collision': True,\n",
       "  'wiggle_nodes': False,\n",
       "  'freeze_nodes': False,\n",
       "  'node_fill_color': '#b60017',\n",
       "  'node_stroke_color': '#000000',\n",
       "  'node_label_color': '#000000',\n",
       "  'display_node_labels': True,\n",
       "  'scale_node_size_by_strength': False,\n",
       "  'node_size': 5.060939506547945,\n",
       "  'node_stroke_width': 1.0780568225984593,\n",
       "  'node_size_variation': 0.5407844870328099,\n",
       "  'link_color': '#0010ff',\n",
       "  'link_width': 3.2430924109727792,\n",
       "  'link_alpha': 0.5886488076685994,\n",
       "  'link_width_variation': 1.0940834258593208,\n",
       "  'display_singleton_nodes': True,\n",
       "  'min_link_weight_percentile': 0.15,\n",
       "  'max_link_weight_percentile': 0.47000000000000003})"
      ]
     },
     "execution_count": 28,
     "metadata": {},
     "output_type": "execute_result"
    },
    {
     "data": {
      "image/png": "[encoded data removed]",
      "text/plain": [
       "<Figure size 288x288 with 1 Axes>"
      ]
     },
     "metadata": {
      "needs_background": "light"
     },
     "output_type": "display_data"
    }
   ],
   "source": [
    "visualize(G)"
   ]
  },
  {
   "cell_type": "code",
   "execution_count": 24,
   "metadata": {},
   "outputs": [],
   "source": [
    "network = DEpiNet(G, 0.5, 0.2)"
   ]
  },
  {
   "cell_type": "code",
   "execution_count": 25,
   "metadata": {},
   "outputs": [
    {
     "data": {
      "text/plain": [
       "[0.8864565916920135,\n",
       " 0.4047457320412138,\n",
       " 0.6019640501772138,\n",
       " 0.2549956127067011,\n",
       " 0.7292998988111432,\n",
       " 0.3392581575017422,\n",
       " 0.4352945148342429,\n",
       " 1.0559991372218458,\n",
       " 0.5645845514870133,\n",
       " 0.20324717381616547]"
      ]
     },
     "execution_count": 25,
     "metadata": {},
     "output_type": "execute_result"
    }
   ],
   "source": [
    "[network.structure.nodes[i]['confidence'] for i in range(len(network.structure.nodes))]"
   ]
  },
  {
   "cell_type": "code",
   "execution_count": 26,
   "metadata": {},
   "outputs": [
    {
     "data": {
      "text/plain": [
       "{'confidence': 0.8864565916920135}"
      ]
     },
     "execution_count": 26,
     "metadata": {},
     "output_type": "execute_result"
    }
   ],
   "source": [
    "network.structure.nodes[0]"
   ]
  },
  {
   "cell_type": "code",
   "execution_count": 27,
   "metadata": {},
   "outputs": [],
   "source": [
    "for step in range(5):\n",
    "    new_net = network.structure.copy()\n",
    "    \n",
    "    # Posess evidences\n",
    "    for i in range(len(network.structure.nodes)):\n",
    "        network.structure.nodes[i]['evidence'] = get_evidence(\n",
    "            network.structure.nodes[i]['confidence'], 10\n",
    "        )\n",
    "\n",
    "    # Update confidences\n",
    "    for i in range(len(network.structure.nodes)):\n",
    "        evidences = [network.structure.nodes[i]['evidence'] for i in list(network.structure.neighbors(1))]\n",
    "        new_net.nodes[i]['confidence'] = update_confidence(\n",
    "            conf=network.structure.nodes[i]['confidence'],\n",
    "            evidences=evidences\n",
    "        )\n",
    "    network.structure = new_net"
   ]
  },
  {
   "cell_type": "code",
   "execution_count": 75,
   "metadata": {},
   "outputs": [
    {
     "data": {
      "text/plain": [
       "[0, 2, 3, 4, 5, 6, 7, 8, 9]"
      ]
     },
     "execution_count": 75,
     "metadata": {},
     "output_type": "execute_result"
    }
   ],
   "source": [
    "list(G.neighbors(1))"
   ]
  },
  {
   "cell_type": "code",
   "execution_count": 88,
   "metadata": {},
   "outputs": [
    {
     "data": {
      "text/plain": [
       "[0.6248643119821027,\n",
       " 0.6248619458583066,\n",
       " 0.6248663177508998,\n",
       " 0.6248662020309907,\n",
       " 0.624865955206311,\n",
       " 0.6248613758784693,\n",
       " 0.6248671639098549,\n",
       " 0.624859689824347,\n",
       " 0.6248694289272857,\n",
       " 0.6248537419992493]"
      ]
     },
     "execution_count": 88,
     "metadata": {},
     "output_type": "execute_result"
    }
   ],
   "source": [
    "[network.structure.nodes[i]['confidence'] for i in range(len(network.structure.nodes))]"
   ]
  },
  {
   "cell_type": "markdown",
   "metadata": {},
   "source": [
    "# Epistemic Network Model"
   ]
  },
  {
   "cell_type": "markdown",
   "metadata": {},
   "source": [
    "## Notes\n",
    "\n",
    "### Model\n",
    "\n",
    "The basic setup of Bala and Goyal’s model is that there is **a group\n",
    "of simple agents** — highly idealized representations of scientists, or\n",
    "knowledge seekers — who are **trying to choose between two actions**\n",
    "and who use information gathered by themselves and by others to\n",
    "make this choice. The two actions are assumed to differ in how\n",
    "likely they are to yield a desired outcome. This could represent the\n",
    "choice between eating fish or not and so increasing or decreasing\n",
    "one’s risk of mercury poisoning; or it could be regulating smokestack\n",
    "emissions and so increasing or decreasing the risks of acid rain.\n",
    "For a very simple example, imagine someone faced with two slot\n",
    "machines, trying to figure out which one pays out more often.  \n",
    "\n",
    "Over a series of rounds, each scientist in the model chooses one\n",
    "action or the other. They **make their choices on the basis of what\n",
    "they currently believe about the problem, and they record the results\n",
    "of their actions.** To begin with, the scientists are not sure about\n",
    "which action is more likely to yield the desired outcome. But as they\n",
    "make their choices, they gradually see what sorts of outcomes each\n",
    "action yields. These **outcomes are the evidence they use to update\n",
    "their beliefs.** Importantly, each scientist develops beliefs based not\n",
    "only on the outcomes of their own actions, but also on those of\n",
    "their colleagues and friends.  \n",
    "\n",
    "We have an abstract\n",
    "network consisting of a collection of “nodes,” each of which may or\n",
    "may not be connected to other nodes by what is called an “edge.” Each node represents a scientist, and each edge connects two scientists\n",
    "who have access to each other’s results.\n",
    "These networks can take different shapes. **These structures are often important in determining how information\n",
    "and ideas flow through a group.**\n",
    "\n",
    "We should also emphasize that, although our examples come\n",
    "from science and we are calling the agents in our model “scientists,”\n",
    "these models can represent any group of people who are trying to\n",
    "make their way in an unpredictable world. All of us act as scientists\n",
    "sometimes, when we make decisions based on our own experiences\n",
    "and those of our friends. Ever buy a car? There is a good chance\n",
    "that you took it for a test drive and asked the dealer some questions.\n",
    "You were gathering evidence before making a decision.\n",
    "\n",
    "\n",
    "### Agents (Scientists)\n",
    "In the model,\n",
    "each node — each scientist — is associated with a number between 0\n",
    "and 1. This number represents the scientist’s level of certainty, or\n",
    "credence, that action B is better than action A. An assignment of .7\n",
    "would mean that particular scientist thinks there is a 70 percent\n",
    "chance that action B is better than action A. Which action the scientist\n",
    "takes is wholly determined by this number. If it is greater\n",
    "than .5, the scientist performs action B — by which we mean that we\n",
    "simulate pulling a slot machine some number of times and counting\n",
    "the number of times it pays off. Then we use Bayes’ rule to\n",
    "update the scientist’s credence in light of this result, and likewise\n",
    "update the credences of all of the other neighboring scientists on\n",
    "the network.\n",
    "If the scientist’s belief is less than .5, he or she performs action\n",
    "A. In the simplest version of the model, we assume that everyone\n",
    "knows that this action works exactly half the time. (When credences exactly equal .5, we also have the agent choose action A, but\n",
    "this essentially never happens.) **Any\n",
    "one\n",
    "connected to someone who tried action B—the new, unknown\n",
    "treatment—will update their beliefs.**  \n",
    "\n",
    "**This process continues stepwise (try actions, update credences,\n",
    "try actions, update credences) until the scientists have converged on\n",
    "a consensus.** This can happen if all of the scientists have sufficiently\n",
    "high credence—greater than .99—that action B is better; or all of them have sufficiently low credence, less than .5, so that no one in\n",
    "the network ever performs action B, in which case they will not\n",
    "learn anything further about it. In the first case, we say the network\n",
    "has converged to the true belief. In the second, we say it has converged\n",
    "to the false one.  \n",
    "\n",
    "In general, these models tend to converge\n",
    "to the true consensus—that is, the whole network comes to believe\n",
    "that action B is better. But sometimes go to the\n",
    "false one.22\n",
    "What we want to understand is this: **Under what circumstances\n",
    "do networks of scientists converge to false beliefs?**\n",
    "\n",
    "\n",
    "\n",
    "### Actions\n",
    "In the model, one of the two actions — call it action B — is, in fact,\n",
    "better than action A. (To keep this straight, remember that A is for\n",
    "“All right,” but B is for “Better.”) But figuring out which action is\n",
    "superior is not necessarily easy. **A crucial assumption in this model\n",
    "is that evidence is probabilistic**, meaning that when the scientists\n",
    "investigate the world — test a slot machine or warn a sick patient off\n",
    "fish — the results are not always the same. **Action B is better than\n",
    "action A because, on average, it yields better results.** But there can\n",
    "be many individual instances when action A happens to yield a better\n",
    "result.\n",
    "In this way, we can think of action B as similar to a biased coin.\n",
    "It may land heads up more often than an ordinary coin — but that\n",
    "does not mean that it never lands tails up. And if you flip a biased\n",
    "coin and an unbiased coin some number of times, there is no guarantee\n",
    "that the biased one will land heads up more often. It is merely\n",
    "likely that it will do so.\n",
    "\n",
    "\n",
    "### Zollman effect\n",
    "This trade-off, where connections propagate true beliefs but\n",
    "also open channels for the spread of misleading evidence, means\n",
    "that sometimes it is actually better for a group of scientists to communicate\n",
    "less, especially when they work on a hard problem. This\n",
    "phenomenon, in which scientists improve their beliefs by failing to\n",
    "communicate, is known as the “Zollman effect,” after Kevin Zollman,\n",
    "who discovered it.28 If everybody shares evidence, a chance\n",
    "string of bad data can persuade the entire group to abandon the\n",
    "correct theory. But in a group where not everyone listens to everyone\n",
    "else, pockets of scientists can be protected from misleading\n",
    "data and continue to gather evidence on the true belief that eventually\n",
    "persuades the rest of the community.\n",
    "\n",
    "\n",
    "### Network structure remarks\n",
    "1. Real human networks are often “small worlds,” which tend to have interconnected\n",
    "cliques and short path lengths between any two nodes. Granovetter\n",
    "(1973) conceived of human networks as consisting of tight-knit cliques connected\n",
    "by bridges. Watts and Strogatz (1998) developed their famous “small\n",
    "world” networks to try to capture realistic aspects of human networks. Onnela\n",
    "et al. (2007) observe such structures among cell phone users. Newman\n",
    "(2001) finds the same for scientific collaboration networks.\n",
    "2. The harder the problem, the more potential social structure has to\n",
    "influence the outcome. (Zollman effect; Rosenstock, Bruner, and O’Connor (2016) show that Zollman’s research on\n",
    "connectivity and consensus is sensitive to parameter values and that, in particular,\n",
    "in communities where scientists gather large data sets and data is more reliable, it is better to always communicate this data)\n",
    "\n",
    "\n",
    "### Other remarks\n",
    "1. The social spread of knowledge is a double-edged sword. It gives us\n",
    "remarkable capabilities, as a species, to develop sophisticated knowledge\n",
    "about the world, but it also opens the door to the spread of\n",
    "false belief."
   ]
  },
  {
   "cell_type": "markdown",
   "metadata": {},
   "source": [
    "## Usage example"
   ]
  },
  {
   "cell_type": "code",
   "execution_count": 2,
   "metadata": {},
   "outputs": [
    {
     "name": "stdout",
     "output_type": "stream",
     "text": [
      "The autoreload extension is already loaded. To reload it, use:\n",
      "  %reload_ext autoreload\n"
     ]
    }
   ],
   "source": [
    "%load_ext autoreload\n",
    "%autoreload 2"
   ]
  },
  {
   "cell_type": "code",
   "execution_count": 3,
   "metadata": {},
   "outputs": [
    {
     "name": "stdout",
     "output_type": "stream",
     "text": [
      "C:\\Users\\Damian\\Studia\\Danologia\\Magisterka\\depinet\\DEpiNet\n"
     ]
    }
   ],
   "source": [
    "cd .."
   ]
  },
  {
   "cell_type": "code",
   "execution_count": 46,
   "metadata": {},
   "outputs": [],
   "source": [
    "from src.epinet.agent import Agent\n",
    "from src.epinet.models import Network, DynamicNetwork\n",
    "from src.epinet.simulation import Simulation"
   ]
  },
  {
   "cell_type": "markdown",
   "metadata": {},
   "source": [
    "### Agent"
   ]
  },
  {
   "cell_type": "code",
   "execution_count": 42,
   "metadata": {},
   "outputs": [
    {
     "name": "stdout",
     "output_type": "stream",
     "text": [
      "Base credence: 0.5\n",
      "Credence after update: 0.6923076923076922\n"
     ]
    }
   ],
   "source": [
    "a = Agent('1', 0.5, [])\n",
    "print(f'Base credence: {a.credence}')\n",
    "a.update_credence(10, 6)\n",
    "print(f'Credence after update: {a.credence}')"
   ]
  },
  {
   "cell_type": "markdown",
   "metadata": {},
   "source": [
    "### Static Network"
   ]
  },
  {
   "cell_type": "code",
   "execution_count": 43,
   "metadata": {},
   "outputs": [
    {
     "name": "stdout",
     "output_type": "stream",
     "text": [
      "Graph edges: {0: [1, 2], 1: [0], 2: [0]}\n",
      "Consensus check: False\n"
     ]
    },
    {
     "data": {
      "image/png": "[encoded data removed]",
      "text/plain": [
       "<Figure size 432x288 with 1 Axes>"
      ]
     },
     "metadata": {},
     "output_type": "display_data"
    }
   ],
   "source": [
    "import networkx as nx\n",
    "\n",
    "# Create craph structure\n",
    "G = nx.Graph()\n",
    "G.add_edges_from([(0, 1), (0, 2)])\n",
    "l = nx.convert.to_dict_of_lists(G)\n",
    "print(f'Graph edges: {l}')\n",
    "\n",
    "# Create epostemic network\n",
    "g = Network(l)\n",
    "print(f'Consensus check: {g.is_consensus()}')\n",
    "g.plot('Network structure visualization')"
   ]
  },
  {
   "cell_type": "markdown",
   "metadata": {},
   "source": [
    "### Dynamic Network"
   ]
  },
  {
   "cell_type": "code",
   "execution_count": 44,
   "metadata": {},
   "outputs": [
    {
     "name": "stdout",
     "output_type": "stream",
     "text": [
      "Graph edges:\n",
      " - Step 1: {0: [1, 2], 1: [0], 2: [0, 3], 3: [2]}\n",
      " - Step 2: {0: [1, 2], 1: [0, 2], 2: [0, 3, 1], 3: [2]}\n",
      " - Step 3: {0: [1, 2, 3], 1: [0, 2], 2: [0, 3, 1], 3: [2, 0]}\n"
     ]
    },
    {
     "data": {
      "image/png": "[encoded data removed]",
      "text/plain": [
       "<Figure size 432x288 with 1 Axes>"
      ]
     },
     "metadata": {},
     "output_type": "display_data"
    },
    {
     "data": {
      "image/png": "[encoded data removed]",
      "text/plain": [
       "<Figure size 432x288 with 1 Axes>"
      ]
     },
     "metadata": {},
     "output_type": "display_data"
    },
    {
     "data": {
      "image/png": "[encoded data removed]",
      "text/plain": [
       "<Figure size 432x288 with 1 Axes>"
      ]
     },
     "metadata": {},
     "output_type": "display_data"
    }
   ],
   "source": [
    "import networkx as nx\n",
    "\n",
    "# Create craph structure\n",
    "G = nx.Graph()\n",
    "G.add_edges_from([(0, 1), (0, 2), (2, 3)])\n",
    "l1 = nx.convert.to_dict_of_lists(G)\n",
    "\n",
    "G.add_edges_from([(1, 2)])\n",
    "l2 = nx.convert.to_dict_of_lists(G)\n",
    "\n",
    "G.add_edges_from([(0, 3)])\n",
    "l3 = nx.convert.to_dict_of_lists(G)\n",
    "\n",
    "print('Graph edges:')\n",
    "print(f' - Step 1: {l1}')\n",
    "print(f' - Step 2: {l2}')\n",
    "print(f' - Step 3: {l3}')\n",
    "\n",
    "# Create epostemic network\n",
    "g = DynamicNetwork(l1)\n",
    "g.plot('Network structure visualization - Step 1')\n",
    "g.update_structure(l2)\n",
    "g.plot('Network structure visualization - Step 2')\n",
    "g.update_structure(l3)\n",
    "g.plot('Network structure visualization - Step 3')"
   ]
  },
  {
   "cell_type": "markdown",
   "metadata": {},
   "source": [
    "### Simulation"
   ]
  },
  {
   "cell_type": "code",
   "execution_count": 45,
   "metadata": {},
   "outputs": [
    {
     "name": "stdout",
     "output_type": "stream",
     "text": [
      "Consensus check: False\n",
      "Consensus reached\n"
     ]
    }
   ],
   "source": [
    "# Create epistemic network\n",
    "G = nx.Graph()\n",
    "G.add_edges_from([(0, 1), (0, 2), (1, 3), (3, 4), (2, 5), (5, 6)])\n",
    "l = nx.convert.to_dict_of_lists(G)\n",
    "g = Network(l)\n",
    "print(f'Consensus check: {g.is_consensus()}')\n",
    "\n",
    "# Run simulation\n",
    "s = Simulation(g, 10)\n",
    "sim_res = s.run()\n",
    "if sim_res:\n",
    "    print('Consensus reached')\n",
    "else:\n",
    "    print('No consensus')"
   ]
  },
  {
   "cell_type": "markdown",
   "metadata": {},
   "source": [
    "### Zollman effect"
   ]
  },
  {
   "cell_type": "code",
   "execution_count": null,
   "metadata": {},
   "outputs": [],
   "source": [
    "# TODO: run"
   ]
  },
  {
   "cell_type": "markdown",
   "metadata": {},
   "source": [
    "### Cogsnet based"
   ]
  },
  {
   "cell_type": "code",
   "execution_count": null,
   "metadata": {},
   "outputs": [],
   "source": []
  },
  {
   "cell_type": "markdown",
   "metadata": {},
   "source": [
    "## Implementation"
   ]
  },
  {
   "cell_type": "code",
   "execution_count": 32,
   "metadata": {},
   "outputs": [],
   "source": [
    "import networkx as nx\n",
    "from numpy import random\n",
    "from typing import Dict, List\n",
    "\n",
    "class Agent:\n",
    "    BASE_ACTION_PAYOFF = 0.5\n",
    "    EPSILON = 0.001\n",
    "    BETA_ACTION_PAYOFF = BASE_ACTION_PAYOFF + EPSILON\n",
    "    \n",
    "    def __init__(self, i, credence, neighbors):\n",
    "        self.id = i\n",
    "        self.credence = credence\n",
    "        self.neighbors = neighbors\n",
    "        self.n = 0\n",
    "        self.k = 0\n",
    "        \n",
    "    def get_evidence(self, n_trials):\n",
    "        self.n, self.k = 0, 0\n",
    "        if self.credence > self.BASE_ACTION_PAYOFF:\n",
    "            self.n = n_trials\n",
    "            self.k = random.binomial(n_trials, self.BETA_ACTION_PAYOFF)\n",
    "\n",
    "    def update_credence(self, n, k):\n",
    "        #n = self.n + sum([neighbor.n for neighbor in self.neighbors])\n",
    "        #k = self.k + sum([neighbor.k for neighbor in self.neighbors])\n",
    "        self.credence = 1 / (1 + (1 - self.credence) * (((0.5 - self.EPSILON) / (0.5 + self.EPSILON)) ** (2 * k - n)) / self.credence)\n",
    "    \n",
    "    def set_neighbors(self, neighbors):\n",
    "        self.neighbors = neighbors\n",
    "\n",
    "class Network:\n",
    "    CONSENSUS_EPSILON = 0.01\n",
    "    BASE_ACTION_PAYOFF = 0.5\n",
    "    N_TRIALS = 1000\n",
    "    \n",
    "    def __init__(self, structure: Dict[int, List[int]]):\n",
    "        self.structure = structure\n",
    "        self.agents = [Agent(i, random.uniform(0, 1), structure[i]) for i in structure.keys()]\n",
    "    \n",
    "    def run_evidence_collection(self):\n",
    "        for agent in self.agents:\n",
    "            agent.get_evidence(self.N_TRIALS)\n",
    "    \n",
    "    def run_credence_update(self):\n",
    "        for agent in self.agents:\n",
    "            n = agent.n + sum([self.agents[neighbor].n for neighbor in agent.neighbors])\n",
    "            k = agent.k + sum([self.agents[neighbor].k for neighbor in agent.neighbors])\n",
    "            if n > 0:\n",
    "                agent.update_credence(n, k)\n",
    "    \n",
    "    def is_true_consensus(self):\n",
    "        return all(agent.credence > 1-self.CONSENSUS_EPSILON for agent in self.agents)\n",
    "    \n",
    "    def is_consensus(self):\n",
    "        \"\"\"\n",
    "        Checks if there is a consensus regarding superiority of one of the actions.\n",
    "        \"\"\"\n",
    "        is_base_consensus = all(agent.credence < self.BASE_ACTION_PAYOFF for agent in self.agents)\n",
    "        is_beta_consensus = all(agent.credence > 1-self.CONSENSUS_EPSILON for agent in self.agents)\n",
    "        return is_base_consensus or is_beta_consensus\n",
    "\n",
    "    def describe(self):\n",
    "        for a in self.agents:\n",
    "            print(f\"- Agent {a.id}, {a.credence}, {a.n}, {a.k}, {a.neighbors}\")\n",
    "        print()\n",
    "        \n",
    "    def plot(self):\n",
    "        g = nx.Graph(self.structure)\n",
    "        nx.draw(g, with_labels=True)\n",
    "\n",
    "class DynamicNetwork(Network):\n",
    "    def update_structure(self, structure: Dict[int, List[int]]):\n",
    "        for a in self.agents:\n",
    "            a.set_neighbors(structure[a.id])\n",
    "        self.structure = structure\n",
    "        \n",
    "class Simulation:\n",
    "    def __init__(self, network, steps):\n",
    "        self.network = network\n",
    "        self.steps = steps\n",
    "    \n",
    "    def step(self):\n",
    "        self.network.run_evidence_collection()\n",
    "        self.network.run_credence_update()\n",
    "        \n",
    "    def run(self):\n",
    "        i = 0\n",
    "        while i < self.steps and not self.network.is_consensus():\n",
    "            self.step()\n",
    "            i += 1\n",
    "        return self.network.is_true_consensus()"
   ]
  },
  {
   "cell_type": "markdown",
   "metadata": {},
   "source": [
    "## Tests"
   ]
  },
  {
   "cell_type": "markdown",
   "metadata": {},
   "source": [
    "### Agent"
   ]
  },
  {
   "cell_type": "code",
   "execution_count": 17,
   "metadata": {},
   "outputs": [
    {
     "name": "stdout",
     "output_type": "stream",
     "text": [
      "0.59\n",
      "0.593864757454364\n"
     ]
    }
   ],
   "source": [
    "a = Agent(1, 0.59, [])\n",
    "print(a.credence)\n",
    "a.update_credence(20, 12)\n",
    "print(a.credence)"
   ]
  },
  {
   "cell_type": "markdown",
   "metadata": {},
   "source": [
    "### Network"
   ]
  },
  {
   "cell_type": "code",
   "execution_count": 18,
   "metadata": {},
   "outputs": [
    {
     "name": "stdout",
     "output_type": "stream",
     "text": [
      "{0: [1, 2], 1: [0], 2: [0]}\n"
     ]
    }
   ],
   "source": [
    "G = nx.Graph()\n",
    "G.add_edges_from([(0, 1), (0, 2)])\n",
    "l = nx.convert.to_dict_of_lists(G)\n",
    "print(l)"
   ]
  },
  {
   "cell_type": "code",
   "execution_count": 19,
   "metadata": {},
   "outputs": [
    {
     "name": "stdout",
     "output_type": "stream",
     "text": [
      "False\n"
     ]
    },
    {
     "data": {
      "image/png": "[encoded data removed]",
      "text/plain": [
       "<Figure size 432x288 with 1 Axes>"
      ]
     },
     "metadata": {},
     "output_type": "display_data"
    }
   ],
   "source": [
    "g = Network(l)\n",
    "print(g.is_consensus())\n",
    "g.plot()"
   ]
  },
  {
   "cell_type": "code",
   "execution_count": 95,
   "metadata": {},
   "outputs": [
    {
     "name": "stdout",
     "output_type": "stream",
     "text": [
      "- Agent 0, 0.9936481503774242, 10, 7, [1, 2]\n",
      "- Agent 1, 0.9998307906465516, 10, 5, [0]\n",
      "- Agent 2, 0.7533256365693816, 0, 0, [0]\n",
      "\n",
      "False\n",
      "- Agent 0, 0.9987388855485293, 10, 8, [1, 2]\n",
      "- Agent 1, 0.9999247887726656, 10, 3, [0]\n",
      "- Agent 2, 0.9873846997992822, 10, 6, [0]\n",
      "\n",
      "False\n"
     ]
    }
   ],
   "source": [
    "g.describe()\n",
    "print(g.is_consensus())\n",
    "g.run_evidence_collection()\n",
    "g.run_credence_update()\n",
    "g.describe()\n",
    "print(g.is_consensus())"
   ]
  },
  {
   "cell_type": "markdown",
   "metadata": {},
   "source": [
    "### Simulation"
   ]
  },
  {
   "cell_type": "code",
   "execution_count": 96,
   "metadata": {},
   "outputs": [
    {
     "data": {
      "text/plain": [
       "False"
      ]
     },
     "execution_count": 96,
     "metadata": {},
     "output_type": "execute_result"
    }
   ],
   "source": [
    "G = nx.Graph()\n",
    "G.add_edges_from([(0, 1), (0, 2), (1, 3), (3, 4), (2, 5), (5, 6)])\n",
    "l = nx.convert.to_dict_of_lists(G)\n",
    "g = Network(l)\n",
    "g.is_consensus()\n",
    "\n",
    "s = Simulation(g, 10)\n",
    "s.run()"
   ]
  },
  {
   "cell_type": "code",
   "execution_count": 98,
   "metadata": {},
   "outputs": [
    {
     "name": "stdout",
     "output_type": "stream",
     "text": [
      "- Agent 0, 0.9999999947041478, 10, 4, [1, 2]\n",
      "- Agent 1, 0.9998499925031161, 10, 5, [0, 3]\n",
      "- Agent 2, 0.999999998927444, 10, 5, [0, 5]\n",
      "- Agent 3, 0.9996717369603754, 10, 4, [1, 4]\n",
      "- Agent 4, 0.15903316352568994, 0, 0, [3]\n",
      "- Agent 5, 0.9999999997277202, 10, 6, [2, 6]\n",
      "- Agent 6, 0.9998604638279907, 10, 4, [5]\n",
      "\n"
     ]
    },
    {
     "data": {
      "text/plain": [
       "True"
      ]
     },
     "execution_count": 98,
     "metadata": {},
     "output_type": "execute_result"
    }
   ],
   "source": [
    "s = Simulation(g, 10)\n",
    "s.run()"
   ]
  },
  {
   "cell_type": "markdown",
   "metadata": {},
   "source": [
    "### Visualizations"
   ]
  },
  {
   "cell_type": "code",
   "execution_count": 164,
   "metadata": {},
   "outputs": [],
   "source": [
    "import matplotlib.pyplot as plt\n",
    "%matplotlib inline\n",
    "\n",
    "def plot_sims_results(d, a_numbers):\n",
    "    for s in d.keys():\n",
    "        plt.plot(a_numbers, d[s], label = s)\n",
    "    plt.xlabel('Nr agents in network')\n",
    "    plt.ylabel('Probability of correct consensus')\n",
    "    plt.title('Simulations for different network structures')\n",
    "    plt.legend()\n",
    "    plt.show()"
   ]
  },
  {
   "cell_type": "markdown",
   "metadata": {},
   "source": [
    "### Zollman effect"
   ]
  },
  {
   "cell_type": "code",
   "execution_count": 184,
   "metadata": {},
   "outputs": [],
   "source": [
    "MAX_STEPS = 10000\n",
    "\n",
    "def test_complete(nr_nodes, nr_sims):\n",
    "    g = nx.complete_graph(nr_nodes)\n",
    "    l = nx.convert.to_dict_of_lists(g)\n",
    "    res = []\n",
    "    for i in range(nr_sims):\n",
    "        n = Network(l)\n",
    "        s = Simulation(n, MAX_STEPS)\n",
    "        p_res = s.run()\n",
    "        res.append(1 if p_res else 0)\n",
    "    return np.mean(res)\n",
    "\n",
    "def test_cycle(nr_nodes, nr_sims):\n",
    "    g = nx.cycle_graph(nr_nodes)\n",
    "    l = nx.convert.to_dict_of_lists(g)\n",
    "    res = []\n",
    "    for i in range(nr_sims):\n",
    "        n = Network(l)\n",
    "        s = Simulation(n, MAX_STEPS)\n",
    "        p_res = s.run()\n",
    "        res.append(1 if p_res else 0)\n",
    "    return np.mean(res)\n",
    "\n",
    "def test_wheel(nr_nodes, nr_sims):\n",
    "    g = nx.wheel_graph(nr_nodes)\n",
    "    l = nx.convert.to_dict_of_lists(g)\n",
    "    res = []\n",
    "    for i in range(nr_sims):\n",
    "        n = Network(l)\n",
    "        s = Simulation(n, MAX_STEPS)\n",
    "        p_res = s.run()\n",
    "        res.append(1 if p_res else 0)\n",
    "    return np.mean(res)"
   ]
  },
  {
   "cell_type": "code",
   "execution_count": 185,
   "metadata": {},
   "outputs": [],
   "source": [
    "import numpy as np\n",
    "\n",
    "results = {\n",
    "    'cycle': [],\n",
    "    'wheel': [],\n",
    "    'complete': []\n",
    "}\n",
    "agent_nrs = [5, 6, 7, 8, 9, 10]\n",
    "sims_nr = 1000\n",
    "\n",
    "for nr in agent_nrs:\n",
    "    # Complete\n",
    "    res = test_complete(nr, sims_nr)\n",
    "    results['complete'].append(res)\n",
    "    \n",
    "    # Wheel\n",
    "    res = test_wheel(nr, sims_nr)\n",
    "    results['wheel'].append(res)\n",
    "    \n",
    "    # Cycle\n",
    "    res = test_cycle(nr, sims_nr)\n",
    "    results['cycle'].append(res)"
   ]
  },
  {
   "cell_type": "code",
   "execution_count": 186,
   "metadata": {},
   "outputs": [
    {
     "data": {
      "image/png": "[encoded data removed]",
      "text/plain": [
       "<Figure size 432x288 with 1 Axes>"
      ]
     },
     "metadata": {
      "needs_background": "light"
     },
     "output_type": "display_data"
    }
   ],
   "source": [
    "plot_sims_results(results, agent_nrs)"
   ]
  },
  {
   "cell_type": "markdown",
   "metadata": {},
   "source": [
    "### Dynamic network"
   ]
  },
  {
   "cell_type": "code",
   "execution_count": 33,
   "metadata": {},
   "outputs": [
    {
     "name": "stdout",
     "output_type": "stream",
     "text": [
      "{0: [1, 2], 1: [0], 2: [0, 3], 3: [2]}\n",
      "{0: [1, 2], 1: [0, 2], 2: [0, 3, 1], 3: [2]}\n",
      "{0: [1, 2, 3], 1: [0, 2], 2: [0, 3, 1], 3: [2, 0]}\n"
     ]
    }
   ],
   "source": [
    "G = nx.Graph()\n",
    "G.add_edges_from([(0, 1), (0, 2), (2, 3)])\n",
    "l1 = nx.convert.to_dict_of_lists(G)\n",
    "print(l1)\n",
    "G.add_edges_from([(1, 2)])\n",
    "l2 = nx.convert.to_dict_of_lists(G)\n",
    "print(l2)\n",
    "G.add_edges_from([(0, 3)])\n",
    "l3 = nx.convert.to_dict_of_lists(G)\n",
    "print(l3)"
   ]
  },
  {
   "cell_type": "code",
   "execution_count": 34,
   "metadata": {},
   "outputs": [
    {
     "data": {
      "image/png": "[encoded data removed]",
      "text/plain": [
       "<Figure size 432x288 with 1 Axes>"
      ]
     },
     "metadata": {},
     "output_type": "display_data"
    }
   ],
   "source": [
    "g = DynamicNetwork(l1)\n",
    "g.plot()\n",
    "g.update_structure(l2)\n",
    "g.plot()"
   ]
  },
  {
   "cell_type": "code",
   "execution_count": 35,
   "metadata": {},
   "outputs": [
    {
     "data": {
      "image/png": "[encoded data removed]",
      "text/plain": [
       "<Figure size 432x288 with 1 Axes>"
      ]
     },
     "metadata": {},
     "output_type": "display_data"
    }
   ],
   "source": [
    "g.update_structure(l2)\n",
    "g.plot()"
   ]
  },
  {
   "cell_type": "code",
   "execution_count": 36,
   "metadata": {},
   "outputs": [
    {
     "data": {
      "image/png": "[encoded data removed]",
      "text/plain": [
       "<Figure size 432x288 with 1 Axes>"
      ]
     },
     "metadata": {},
     "output_type": "display_data"
    }
   ],
   "source": [
    "g.update_structure(l3)\n",
    "g.plot()"
   ]
  },
  {
   "cell_type": "markdown",
   "metadata": {},
   "source": []
  },
  {
   "cell_type": "code",
   "execution_count": null,
   "metadata": {},
   "outputs": [],
   "source": []
  },
  {
   "cell_type": "code",
   "execution_count": null,
   "metadata": {},
   "outputs": [],
   "source": []
  },
  {
   "cell_type": "markdown",
   "metadata": {},
   "source": [
    "# Mesa implementation"
   ]
  },
  {
   "cell_type": "code",
   "execution_count": 8,
   "metadata": {},
   "outputs": [],
   "source": [
    "from mesa import Agent, Model\n",
    "from mesa.time import RandomActivation\n",
    "\n",
    "class MoneyAgent(Agent):\n",
    "    \"\"\" An agent with fixed initial wealth.\"\"\"\n",
    "    def __init__(self, unique_id, model):\n",
    "        super().__init__(unique_id, model)\n",
    "        self.wealth = 1\n",
    "\n",
    "    def step(self):\n",
    "        if self.wealth == 0:\n",
    "            return\n",
    "        other_agent = self.random.choice(self.model.schedule.agents)\n",
    "        other_agent.wealth += 1\n",
    "        self.wealth -= 1\n",
    "\n",
    "class MoneyModel(Model):\n",
    "    \"\"\"A model with some number of agents.\"\"\"\n",
    "    def __init__(self, N):\n",
    "        self.num_agents = N\n",
    "        self.schedule = RandomActivation(self)\n",
    "        # Create agents\n",
    "        for i in range(self.num_agents):\n",
    "            a = MoneyAgent(i, self)\n",
    "            self.schedule.add(a)\n",
    "\n",
    "    def step(self):\n",
    "        '''Advance the model by one step.'''\n",
    "        self.schedule.step()"
   ]
  },
  {
   "cell_type": "code",
   "execution_count": 17,
   "metadata": {},
   "outputs": [],
   "source": [
    "model = MoneyModel(1000)\n",
    "for i in range(1000):\n",
    "    model.step()"
   ]
  },
  {
   "cell_type": "code",
   "execution_count": 18,
   "metadata": {},
   "outputs": [
    {
     "data": {
      "text/plain": [
       "(array([461., 284., 143.,  63.,  25.,  15.,   3.,   1.,   4.,   1.]),\n",
       " array([0. , 0.9, 1.8, 2.7, 3.6, 4.5, 5.4, 6.3, 7.2, 8.1, 9. ]),\n",
       " <a list of 10 Patch objects>)"
      ]
     },
     "execution_count": 18,
     "metadata": {},
     "output_type": "execute_result"
    },
    {
     "data": {
      "image/png": "[encoded data removed]",
      "text/plain": [
       "<Figure size 432x288 with 1 Axes>"
      ]
     },
     "metadata": {
      "needs_background": "light"
     },
     "output_type": "display_data"
    }
   ],
   "source": [
    "%matplotlib inline\n",
    "\n",
    "# The below is needed for both notebooks and scripts\n",
    "import matplotlib.pyplot as plt\n",
    "\n",
    "agent_wealth = [a.wealth for a in model.schedule.agents]\n",
    "plt.hist(agent_wealth)"
   ]
  },
  {
   "cell_type": "code",
   "execution_count": null,
   "metadata": {},
   "outputs": [],
   "source": []
  },
  {
   "cell_type": "markdown",
   "metadata": {},
   "source": [
    "# NetworkX usage"
   ]
  },
  {
   "cell_type": "code",
   "execution_count": 5,
   "metadata": {},
   "outputs": [],
   "source": [
    "import networkx as nx"
   ]
  },
  {
   "cell_type": "code",
   "execution_count": 6,
   "metadata": {},
   "outputs": [],
   "source": [
    "G = nx.Graph()\n",
    "G.add_edges_from([(1, 2), (1, 3)])"
   ]
  },
  {
   "cell_type": "code",
   "execution_count": 8,
   "metadata": {},
   "outputs": [
    {
     "data": {
      "text/plain": [
       "3"
      ]
     },
     "execution_count": 8,
     "metadata": {},
     "output_type": "execute_result"
    }
   ],
   "source": [
    "G.number_of_nodes()"
   ]
  },
  {
   "cell_type": "code",
   "execution_count": 9,
   "metadata": {},
   "outputs": [
    {
     "data": {
      "text/plain": [
       "2"
      ]
     },
     "execution_count": 9,
     "metadata": {},
     "output_type": "execute_result"
    }
   ],
   "source": [
    "G.number_of_edges()"
   ]
  },
  {
   "cell_type": "code",
   "execution_count": 10,
   "metadata": {},
   "outputs": [
    {
     "name": "stdout",
     "output_type": "stream",
     "text": [
      "1 2 3\n",
      "2\n",
      "3\n"
     ]
    }
   ],
   "source": [
    "for line in nx.generate_adjlist(G):\n",
    "    print(line)"
   ]
  },
  {
   "cell_type": "code",
   "execution_count": 18,
   "metadata": {},
   "outputs": [
    {
     "data": {
      "text/plain": [
       "{1: [2, 3], 2: [1], 3: [1]}"
      ]
     },
     "execution_count": 18,
     "metadata": {},
     "output_type": "execute_result"
    }
   ],
   "source": [
    "from networkx.readwrite import json_graph\n",
    "nx.convert.to_dict_of_lists(G)"
   ]
  },
  {
   "cell_type": "code",
   "execution_count": null,
   "metadata": {},
   "outputs": [],
   "source": []
  },
  {
   "cell_type": "code",
   "execution_count": null,
   "metadata": {},
   "outputs": [],
   "source": []
  }
 ],
 "metadata": {
  "kernelspec": {
   "display_name": "Python 3",
   "language": "python",
   "name": "python3"
  },
  "language_info": {
   "codemirror_mode": {
    "name": "ipython",
    "version": 3
   },
   "file_extension": ".py",
   "mimetype": "text/x-python",
   "name": "python",
   "nbconvert_exporter": "python",
   "pygments_lexer": "ipython3",
   "version": "3.8.8"
  },
  "latex_envs": {
   "LaTeX_envs_menu_present": true,
   "autoclose": false,
   "autocomplete": true,
   "bibliofile": "biblio.bib",
   "cite_by": "apalike",
   "current_citInitial": 1,
   "eqLabelWithNumbers": true,
   "eqNumInitial": 1,
   "hotkeys": {
    "equation": "Ctrl-E",
    "itemize": "Ctrl-I"
   },
   "labels_anchors": false,
   "latex_user_defs": false,
   "report_style_numbering": false,
   "user_envs_cfg": false
  },
  "toc": {
   "base_numbering": 1,
   "nav_menu": {
    "height": "312px",
    "width": "507px"
   },
   "number_sections": true,
   "sideBar": true,
   "skip_h1_title": false,
   "title_cell": "Table of Contents",
   "title_sidebar": "Contents",
   "toc_cell": false,
   "toc_position": {
    "height": "calc(100% - 180px)",
    "left": "10px",
    "top": "150px",
    "width": "234.3px"
   },
   "toc_section_display": true,
   "toc_window_display": true
  },
  "varInspector": {
   "cols": {
    "lenName": 16,
    "lenType": 16,
    "lenVar": 40
   },
   "kernels_config": {
    "python": {
     "delete_cmd_postfix": "",
     "delete_cmd_prefix": "del ",
     "library": "var_list.py",
     "varRefreshCmd": "print(var_dic_list())"
    },
    "r": {
     "delete_cmd_postfix": ") ",
     "delete_cmd_prefix": "rm(",
     "library": "var_list.r",
     "varRefreshCmd": "cat(var_dic_list()) "
    }
   },
   "types_to_exclude": [
    "module",
    "function",
    "builtin_function_or_method",
    "instance",
    "_Feature"
   ],
   "window_display": false
  }
 },
 "nbformat": 4,
 "nbformat_minor": 4
}
